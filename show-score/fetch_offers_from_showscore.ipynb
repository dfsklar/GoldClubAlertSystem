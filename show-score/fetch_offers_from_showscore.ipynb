{
 "cells": [
  {
   "cell_type": "code",
   "execution_count": 109,
   "id": "f9bbbca4",
   "metadata": {},
   "outputs": [
    {
     "name": "stdout",
     "output_type": "stream",
     "text": [
      "Requirement already satisfied: mechanize in /opt/conda/lib/python3.9/site-packages (0.4.8)\n",
      "Requirement already satisfied: htmldom in /opt/conda/lib/python3.9/site-packages (2.0)\n",
      "Requirement already satisfied: slack_sdk in /opt/conda/lib/python3.9/site-packages (3.21.3)\n",
      "Requirement already satisfied: html5lib>=0.999999999 in /opt/conda/lib/python3.9/site-packages (from mechanize) (1.1)\n",
      "Requirement already satisfied: webencodings in /opt/conda/lib/python3.9/site-packages (from html5lib>=0.999999999->mechanize) (0.5.1)\n",
      "Requirement already satisfied: six>=1.9 in /opt/conda/lib/python3.9/site-packages (from html5lib>=0.999999999->mechanize) (1.16.0)\n"
     ]
    }
   ],
   "source": [
    "!pip install mechanize htmldom slack_sdk"
   ]
  },
  {
   "cell_type": "code",
   "execution_count": 10,
   "id": "e5ab103b",
   "metadata": {},
   "outputs": [],
   "source": [
    "import mechanize\n",
    "import credentials\n",
    "import re\n",
    "import pickle\n",
    "from difflib import SequenceMatcher"
   ]
  },
  {
   "cell_type": "code",
   "execution_count": 15,
   "id": "ec7c8590",
   "metadata": {},
   "outputs": [],
   "source": [
    "if True:\n",
    "    br = mechanize.Browser()\n",
    "    br.addheaders = [('User-Agent', 'Mozilla/5.0 (Windows NT 10.0; Win64; x64; rv:109.0) Gecko/20100101 Firefox/114.0')]\n",
    "    br.open(\"https://www.show-score.com/users/sign_in\")\n",
    "\n",
    "    br.select_form(nr=0)\n",
    "\n",
    "    br.find_control(name=\"user[email]\").value = credentials.USERNAME\n",
    "    br.find_control(name=\"user[password]\").value = credentials.PASSWORD\n",
    "\n",
    "    response_login = br.submit()\n",
    "\n",
    "    html = response_login.get_data()\n",
    "    #print html\n",
    "\n",
    "\n",
    "    br.open(\"https://www.show-score.com/promotions\")\n",
    "    html = br.response().read()"
   ]
  },
  {
   "cell_type": "code",
   "execution_count": 20,
   "id": "700a1938",
   "metadata": {},
   "outputs": [],
   "source": [
    "from html.parser import HTMLParser\n",
    "from htmldom import htmldom"
   ]
  },
  {
   "cell_type": "code",
   "execution_count": 27,
   "id": "f2432c96",
   "metadata": {},
   "outputs": [
    {
     "data": {
      "text/plain": [
       "<htmldom.htmldom.HtmlDom at 0x7f9c92eeca30>"
      ]
     },
     "execution_count": 27,
     "metadata": {},
     "output_type": "execute_result"
    }
   ],
   "source": [
    "dom = htmldom.HtmlDom()\n",
    "dom.createDom(htmlString=html.decode())"
   ]
  },
  {
   "cell_type": "code",
   "execution_count": 83,
   "id": "cfa8a60b",
   "metadata": {},
   "outputs": [],
   "source": [
    "new_avail  = []"
   ]
  },
  {
   "cell_type": "code",
   "execution_count": 84,
   "id": "9a12ac57",
   "metadata": {},
   "outputs": [],
   "source": [
    "show_list = dom.find('.show-details__header')"
   ]
  },
  {
   "cell_type": "code",
   "execution_count": 85,
   "id": "0bd25084",
   "metadata": {},
   "outputs": [],
   "source": [
    "for a_show in show_list:\n",
    "    title = a_show.children().filter('.show-details__show-title-header-link').text().strip()\n",
    "    location = a_show.children().filter('.show-details__location-name').text().strip()\n",
    "    new_avail.append(title + ' // ' + location)"
   ]
  },
  {
   "cell_type": "code",
   "execution_count": 86,
   "id": "ddb39cbf",
   "metadata": {},
   "outputs": [],
   "source": [
    "new_avail.sort()"
   ]
  },
  {
   "cell_type": "code",
   "execution_count": 87,
   "id": "0dc6b2ac",
   "metadata": {},
   "outputs": [
    {
     "name": "stdout",
     "output_type": "stream",
     "text": [
      "['A Tale of Two Cities, Cobbled Together by the Brothers Lovejoy Member Nights // NJ: Cape May', 'Back and Forth Member Nights // NYC: Upper E Side', 'Eisenhower: This Piece of Ground Member Nights // NYC: Midtown W', 'Here Lies Love (Broadway) Member Nights // NYC: Midtown W', 'Notre Dame de Paris Member Nights // NYC: Upper W Side', 'The Doctor (Park Avenue Armory) Member Nights // NYC: Upper E Side', 'The Rise and Fall of Jean Claude Van Damme Member Nights // NYC: Brooklyn', 'Triple Threat Member Nights // NYC: Midtown W']\n"
     ]
    }
   ],
   "source": [
    "print(new_avail)"
   ]
  },
  {
   "cell_type": "code",
   "execution_count": 88,
   "id": "d326616e",
   "metadata": {},
   "outputs": [],
   "source": [
    "def differ(old, new):\n",
    "    new_offerings = []\n",
    "    for new_candidate in new:\n",
    "        #print \"======================\"\n",
    "        #print \"Looking for match for \" + new_candidate\n",
    "        old_matching_entry = list(filter(lambda x: SequenceMatcher(None, x, new_candidate).ratio() > 0.8, old))\n",
    "        if not old_matching_entry:\n",
    "            new_offerings.append(new_candidate)\n",
    "            #print \"DIFFER IS SAYING THIS IS NEW:\"\n",
    "            #print new_candidate\n",
    "            #print old\n",
    "        #else:\n",
    "            #print \"Found match: \"\n",
    "            #print old_matching_entry\n",
    "    return new_offerings"
   ]
  },
  {
   "cell_type": "code",
   "execution_count": 103,
   "id": "6e028269",
   "metadata": {},
   "outputs": [],
   "source": [
    "def fetch_previous_available_titles():\n",
    "    with open(\"avail_titles.pkl\", \"rb\") as f:\n",
    "        return pickle.load(f)"
   ]
  },
  {
   "cell_type": "code",
   "execution_count": 104,
   "id": "a001ddc8",
   "metadata": {},
   "outputs": [
    {
     "data": {
      "text/plain": [
       "['A Tale of Two Cities, Cobbled Together by the Brothers Lovejoy Member Nights // NJ: Cape May',\n",
       " 'Back and Forth Member Nights // NYC: Upper E Side',\n",
       " 'Eisenhower: This Piece of Ground Member Nights // NYC: Midtown W',\n",
       " 'Here Lies Love (Broadway) Member Nights // NYC: Midtown W',\n",
       " 'Notre Dame de Paris Member Nights // NYC: Upper W Side',\n",
       " 'The Doctor (Park Avenue Armory) Member Nights // NYC: Upper E Side',\n",
       " 'The Rise and Fall of Jean Claude Van Damme Member Nights // NYC: Brooklyn',\n",
       " 'Triple Threat Member Nights // NYC: Midtown W']"
      ]
     },
     "execution_count": 104,
     "metadata": {},
     "output_type": "execute_result"
    }
   ],
   "source": [
    "fetch_previous_available_titles()"
   ]
  },
  {
   "cell_type": "code",
   "execution_count": 105,
   "id": "4a50c713",
   "metadata": {},
   "outputs": [],
   "source": [
    "prev_avail = None\n",
    "try:\n",
    "    prev_avail = fetch_previous_available_titles()\n",
    "except:\n",
    "    prev_avail = []"
   ]
  },
  {
   "cell_type": "code",
   "execution_count": 106,
   "id": "c7be5c01",
   "metadata": {},
   "outputs": [
    {
     "data": {
      "text/plain": [
       "['A Tale of Two Cities, Cobbled Together by the Brothers Lovejoy Member Nights // NJ: Cape May',\n",
       " 'Back and Forth Member Nights // NYC: Upper E Side',\n",
       " 'Eisenhower: This Piece of Ground Member Nights // NYC: Midtown W',\n",
       " 'Here Lies Love (Broadway) Member Nights // NYC: Midtown W',\n",
       " 'Notre Dame de Paris Member Nights // NYC: Upper W Side',\n",
       " 'The Doctor (Park Avenue Armory) Member Nights // NYC: Upper E Side',\n",
       " 'The Rise and Fall of Jean Claude Van Damme Member Nights // NYC: Brooklyn',\n",
       " 'Triple Threat Member Nights // NYC: Midtown W']"
      ]
     },
     "execution_count": 106,
     "metadata": {},
     "output_type": "execute_result"
    }
   ],
   "source": [
    "prev_avail"
   ]
  },
  {
   "cell_type": "code",
   "execution_count": 107,
   "id": "db06ac71",
   "metadata": {},
   "outputs": [
    {
     "data": {
      "text/plain": [
       "['A Tale of Two Cities, Cobbled Together by the Brothers Lovejoy Member Nights // NJ: Cape May',\n",
       " 'Back and Forth Member Nights // NYC: Upper E Side',\n",
       " 'Eisenhower: This Piece of Ground Member Nights // NYC: Midtown W',\n",
       " 'Here Lies Love (Broadway) Member Nights // NYC: Midtown W',\n",
       " 'Notre Dame de Paris Member Nights // NYC: Upper W Side',\n",
       " 'The Doctor (Park Avenue Armory) Member Nights // NYC: Upper E Side',\n",
       " 'The Rise and Fall of Jean Claude Van Damme Member Nights // NYC: Brooklyn',\n",
       " 'Triple Threat Member Nights // NYC: Midtown W']"
      ]
     },
     "execution_count": 107,
     "metadata": {},
     "output_type": "execute_result"
    }
   ],
   "source": [
    "new_avail"
   ]
  },
  {
   "cell_type": "code",
   "execution_count": 108,
   "id": "89d726f1",
   "metadata": {},
   "outputs": [
    {
     "data": {
      "text/plain": [
       "[]"
      ]
     },
     "execution_count": 108,
     "metadata": {},
     "output_type": "execute_result"
    }
   ],
   "source": [
    "new_offerings = differ(prev_avail, new_avail)\n",
    "new_offerings"
   ]
  },
  {
   "cell_type": "code",
   "execution_count": 110,
   "id": "d48f1732",
   "metadata": {},
   "outputs": [],
   "source": [
    "for offering in new_offerings:\n",
    "    from slack_sdk.webhook import WebhookClient\n",
    "    url = 'https://hooks.slack.com/services/%s' % credentials.SLACK\n",
    "    webhook = WebhookClient(url)\n",
    "    retval = webhook.send(text=str(offering))\n",
    "    print(\"Return value from the slack webhook launch: \" + str(retval))"
   ]
  },
  {
   "cell_type": "code",
   "execution_count": null,
   "id": "1d663c03",
   "metadata": {},
   "outputs": [],
   "source": []
  },
  {
   "cell_type": "code",
   "execution_count": 98,
   "id": "43a52079",
   "metadata": {},
   "outputs": [],
   "source": [
    "if new_offerings:\n",
    "    with open(\"avail_titles.pkl\", \"wb\") as f:\n",
    "        pickle.dump(new_avail, f)"
   ]
  },
  {
   "cell_type": "code",
   "execution_count": null,
   "id": "cdc14fd6",
   "metadata": {},
   "outputs": [],
   "source": []
  }
 ],
 "metadata": {
  "kernelspec": {
   "display_name": "Python 3 (ipykernel)",
   "language": "python",
   "name": "python3"
  },
  "language_info": {
   "codemirror_mode": {
    "name": "ipython",
    "version": 3
   },
   "file_extension": ".py",
   "mimetype": "text/x-python",
   "name": "python",
   "nbconvert_exporter": "python",
   "pygments_lexer": "ipython3",
   "version": "3.9.7"
  }
 },
 "nbformat": 4,
 "nbformat_minor": 5
}
